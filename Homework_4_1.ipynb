{
 "cells": [
  {
   "cell_type": "code",
   "execution_count": 1,
   "metadata": {},
   "outputs": [],
   "source": [
    "import pandas as pd"
   ]
  },
  {
   "cell_type": "code",
   "execution_count": 2,
   "metadata": {},
   "outputs": [],
   "source": [
    "FILE_PATH = 'C:\\\\Users\\\\Home\\\\Homework_4_1\\\\'\n",
    "\n",
    "making_path = lambda year:f'{FILE_PATH}yob{year}.txt'"
   ]
  },
  {
   "cell_type": "markdown",
   "metadata": {},
   "source": [
    "## Задача №1 \n",
    "\n",
    "С использованием Pandas написать функцию, которая загружает указанные года и выводит ТОП-3 популярных имен. "
   ]
  },
  {
   "cell_type": "code",
   "execution_count": 3,
   "metadata": {},
   "outputs": [],
   "source": [
    "def count_top3(years):\n",
    "    \n",
    "    res = []\n",
    "    \n",
    "    for year in years:\n",
    "        data = pd.read_csv(making_path(year), names=['Name', 'Gender', 'Count'])\n",
    "        res.append(data)\n",
    "   \n",
    "    name_top3 = pd.concat(res).sort_values(by='Count', ascending=False).head(3).Name\n",
    "    return [*name_top3]"
   ]
  },
  {
   "cell_type": "code",
   "execution_count": 4,
   "metadata": {},
   "outputs": [
    {
     "name": "stdout",
     "output_type": "stream",
     "text": [
      "['John', 'William', 'Mary']\n"
     ]
    }
   ],
   "source": [
    "print(count_top3([1880]))"
   ]
  },
  {
   "cell_type": "code",
   "execution_count": 5,
   "metadata": {},
   "outputs": [
    {
     "name": "stdout",
     "output_type": "stream",
     "text": [
      "['James', 'Robert', 'Linda']\n"
     ]
    }
   ],
   "source": [
    "print(count_top3([1900, 1950, 2000]))"
   ]
  },
  {
   "cell_type": "markdown",
   "metadata": {},
   "source": [
    "## Задача №2\n",
    "\n",
    "С использованием Pandas написать функцию, которая возвращает динамику изменения количества имен за указанные года в разрезе полов."
   ]
  },
  {
   "cell_type": "code",
   "execution_count": 6,
   "metadata": {},
   "outputs": [],
   "source": [
    "def count_dynamics(years):\n",
    "    \n",
    "    female = []\n",
    "    man = []\n",
    "    \n",
    "    for year in years:\n",
    "        \n",
    "        names = pd.read_csv(making_path(year), names=['Name', 'Gender', 'Count'])\n",
    "        female.append(names[names.Gender == 'F'].Count.sum())\n",
    "        man.append(names[names.Gender == 'M'].Count.sum())\n",
    "                \n",
    "    return {\n",
    "            'F': female,\n",
    "            'M': man\n",
    "           }"
   ]
  },
  {
   "cell_type": "code",
   "execution_count": 7,
   "metadata": {},
   "outputs": [
    {
     "name": "stdout",
     "output_type": "stream",
     "text": [
      "{'F': [178622, 1533098, 1757328], 'M': [120851, 1643766, 1893134]}\n"
     ]
    }
   ],
   "source": [
    "print (count_dynamics([1888, 1977, 2012]))"
   ]
  }
 ],
 "metadata": {
  "kernelspec": {
   "display_name": "Python 3",
   "language": "python",
   "name": "python3"
  },
  "language_info": {
   "codemirror_mode": {
    "name": "ipython",
    "version": 3
   },
   "file_extension": ".py",
   "mimetype": "text/x-python",
   "name": "python",
   "nbconvert_exporter": "python",
   "pygments_lexer": "ipython3",
   "version": "3.6.5"
  }
 },
 "nbformat": 4,
 "nbformat_minor": 2
}
